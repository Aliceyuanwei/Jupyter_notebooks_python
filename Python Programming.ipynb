{
 "cells": [
  {
   "cell_type": "markdown",
   "metadata": {},
   "source": [
    "# Introduction to Python\n",
    "In this module, you will learn the basics of python programming that are useful in doing data science. The course you are taking assumes that you have a familiarity with basic programming skills, but it is possible to pick them up as you go, provided that you are motivated. \n",
    "\n",
    "There are many tutorials on python available online, and this should serve only as a quick start guide. The python documentation is an invaluable resource and is a good reference for when you need to know how to do something. The documentation can be found [here](https://docs.python.org/3/library/index.html)\n",
    "\n",
    "The version of python that we will be using for this course is **Python 3**. Please make sure that you have downloaded the correct version. If you are using Docker (we will cover this later in the course), then be sure you are using a recommended container such as `jupyter/datascience-notebook` or `jupyter/scipy-notebook`"
   ]
  },
  {
   "cell_type": "markdown",
   "metadata": {},
   "source": [
    "## Importing modules"
   ]
  },
  {
   "cell_type": "markdown",
   "metadata": {},
   "source": [
    "One of the reasons why Python is such a good language for data science is because it has many rich and powerful libraries such as `numpy`, which is a library for fast numerical programming and provides easy array and matrix functionality, and `pandas`, which is one of the most important modules for data science that allows us to work with `DataFrames`. We can import these modules by executing the following code:"
   ]
  },
  {
   "cell_type": "code",
   "execution_count": 46,
   "metadata": {},
   "outputs": [],
   "source": [
    "import numpy as np\n",
    "import pandas as pd"
   ]
  },
  {
   "cell_type": "markdown",
   "metadata": {},
   "source": [
    "That's it! Notice how we used the `as <alias>` syntax here. This is because in order to call functions from these libraries, you have to prefix them with the name of the library (or its alias) so that python knows where the functions are coming from:"
   ]
  },
  {
   "cell_type": "code",
   "execution_count": 47,
   "metadata": {},
   "outputs": [
    {
     "data": {
      "text/plain": [
       "50.333333333333336"
      ]
     },
     "execution_count": 47,
     "metadata": {},
     "output_type": "execute_result"
    }
   ],
   "source": [
    "np.mean([1, 50, 100])"
   ]
  },
  {
   "cell_type": "markdown",
   "metadata": {},
   "source": [
    "As a matter of convention, `numpy` as almost always aliased as `np` and `pandas` is similarly aliased as `pd`. We will try to follow standard practices in this course, so that your code will be readable by others in the community"
   ]
  },
  {
   "cell_type": "markdown",
   "metadata": {},
   "source": [
    "## Calculations and Variables"
   ]
  },
  {
   "cell_type": "markdown",
   "metadata": {},
   "source": [
    "One of the simplest things that python can do is act as a calculator. We can do simple mathematical operations as you might expect:"
   ]
  },
  {
   "cell_type": "code",
   "execution_count": 48,
   "metadata": {},
   "outputs": [
    {
     "data": {
      "text/plain": [
       "(25, 5, 14)"
      ]
     },
     "execution_count": 48,
     "metadata": {},
     "output_type": "execute_result"
    }
   ],
   "source": [
    "13 + 12, 11 - 6, 2 * 7 # Addition, Subtraction, and Multiplication"
   ]
  },
  {
   "cell_type": "markdown",
   "metadata": {},
   "source": [
    "Just a quick note: when we separate our operations by commas `,` the values are returned as a `tuple`, which is an immutable (unable to be changed) sequence of objects in python. We'll talk more about these later. For now, it's simply a way to concisely display some information"
   ]
  },
  {
   "cell_type": "code",
   "execution_count": 86,
   "metadata": {},
   "outputs": [
    {
     "data": {
      "text/plain": [
       "(2.4, 2, 2.0, 2.4)"
      ]
     },
     "execution_count": 86,
     "metadata": {},
     "output_type": "execute_result"
    }
   ],
   "source": [
    "12/5, 12//5, 12.//5., 12./5. # Notice that // is integer division!"
   ]
  },
  {
   "cell_type": "code",
   "execution_count": 88,
   "metadata": {},
   "outputs": [
    {
     "data": {
      "text/plain": [
       "2"
      ]
     },
     "execution_count": 88,
     "metadata": {},
     "output_type": "execute_result"
    }
   ],
   "source": [
    "12 % 5 # Modulo (remainder)"
   ]
  },
  {
   "cell_type": "markdown",
   "metadata": {},
   "source": [
    "You can figure out the type of any object in python by using the `type` function. For example,"
   ]
  },
  {
   "cell_type": "code",
   "execution_count": 50,
   "metadata": {},
   "outputs": [
    {
     "data": {
      "text/plain": [
       "(int, float, str)"
      ]
     },
     "execution_count": 50,
     "metadata": {},
     "output_type": "execute_result"
    }
   ],
   "source": [
    "type(12), type(12.), type('12') # integer, float, string"
   ]
  },
  {
   "cell_type": "markdown",
   "metadata": {},
   "source": [
    "We can also assign values to variables, as you might imagine"
   ]
  },
  {
   "cell_type": "code",
   "execution_count": 51,
   "metadata": {},
   "outputs": [
    {
     "name": "stdout",
     "output_type": "stream",
     "text": [
      "<class 'int'>\n",
      "12\n"
     ]
    }
   ],
   "source": [
    "a = 12\n",
    "print(type(a))\n",
    "print(a)"
   ]
  },
  {
   "cell_type": "markdown",
   "metadata": {},
   "source": [
    "Here's something interesting. What happens when we take a variable and assign another variable to it? "
   ]
  },
  {
   "cell_type": "code",
   "execution_count": 52,
   "metadata": {},
   "outputs": [
    {
     "name": "stdout",
     "output_type": "stream",
     "text": [
      "[1, 2, 3]\n"
     ]
    }
   ],
   "source": [
    "a = [1,2,3]\n",
    "b = a\n",
    "print(b)"
   ]
  },
  {
   "cell_type": "markdown",
   "metadata": {},
   "source": [
    "It may look like we made a copy of `a`, and stored it in `b`. However, what happens when we modify `a` and then check `b`?"
   ]
  },
  {
   "cell_type": "code",
   "execution_count": 53,
   "metadata": {},
   "outputs": [
    {
     "name": "stdout",
     "output_type": "stream",
     "text": [
      "the value of a is: [1, 2, 3, 4]\n",
      "the value of b is: [1, 2, 3, 4]\n"
     ]
    }
   ],
   "source": [
    "a.append(4)\n",
    "print('the value of a is: {}'.format(a))\n",
    "print('the value of b is: {}'.format(b))"
   ]
  },
  {
   "cell_type": "markdown",
   "metadata": {},
   "source": [
    "Here `b` changed as well. This is because `b` is pointing to the values that are associated with `a`. If we *modify* the value of `a`, `b` changes as well. However, we if *re-assign* `a`, this behavior doesn't apply. Be careful about this in your code! "
   ]
  },
  {
   "cell_type": "code",
   "execution_count": 54,
   "metadata": {},
   "outputs": [
    {
     "name": "stdout",
     "output_type": "stream",
     "text": [
      "4\n",
      "[1, 2, 3]\n"
     ]
    }
   ],
   "source": [
    "a = [1,2,3]\n",
    "b = a\n",
    "# Now completely re-assign a\n",
    "a = 4\n",
    "\n",
    "print(a)\n",
    "print(b)"
   ]
  },
  {
   "cell_type": "markdown",
   "metadata": {},
   "source": [
    "### Boolean operators"
   ]
  },
  {
   "cell_type": "markdown",
   "metadata": {},
   "source": [
    "boolean operators return `True` or `False`. For instance,"
   ]
  },
  {
   "cell_type": "code",
   "execution_count": 55,
   "metadata": {},
   "outputs": [
    {
     "data": {
      "text/plain": [
       "False"
      ]
     },
     "execution_count": 55,
     "metadata": {},
     "output_type": "execute_result"
    }
   ],
   "source": [
    "12 < 11"
   ]
  },
  {
   "cell_type": "code",
   "execution_count": 56,
   "metadata": {},
   "outputs": [
    {
     "data": {
      "text/plain": [
       "True"
      ]
     },
     "execution_count": 56,
     "metadata": {},
     "output_type": "execute_result"
    }
   ],
   "source": [
    "12 > 11"
   ]
  },
  {
   "cell_type": "markdown",
   "metadata": {},
   "source": [
    "You can of course do this with variables as well:"
   ]
  },
  {
   "cell_type": "code",
   "execution_count": 57,
   "metadata": {},
   "outputs": [
    {
     "data": {
      "text/plain": [
       "(True, False, False, True)"
      ]
     },
     "execution_count": 57,
     "metadata": {},
     "output_type": "execute_result"
    }
   ],
   "source": [
    "a = 12\n",
    "b = 11\n",
    "\n",
    "a > b, a < b, a == b, a != b # Greater than, less than, equal to, not equal to"
   ]
  },
  {
   "cell_type": "markdown",
   "metadata": {},
   "source": [
    "# Lists"
   ]
  },
  {
   "cell_type": "markdown",
   "metadata": {},
   "source": [
    "Lists are some of the most useful objects in python. Many of the operations that are available on lists are also available on other python objects. Let's start out by creating some lists"
   ]
  },
  {
   "cell_type": "code",
   "execution_count": 60,
   "metadata": {},
   "outputs": [],
   "source": [
    "empty_list = []\n",
    "integer_list = [1, 2, 3, 4, 5]\n",
    "float_list = [1., 2., 3., 4., 5.]\n",
    "string_list = ['1', '2', '3', '4', '5']"
   ]
  },
  {
   "cell_type": "markdown",
   "metadata": {},
   "source": [
    "In `Python`, lists can contain objects of multiple types. This makes them flexible, but also potentially dangerous. We can combine lists together by simply adding them together:"
   ]
  },
  {
   "cell_type": "code",
   "execution_count": 61,
   "metadata": {},
   "outputs": [
    {
     "data": {
      "text/plain": [
       "[1, 2, 3, 4, 5, 1.0, 2.0, 3.0, 4.0, 5.0, '1', '2', '3', '4', '5']"
      ]
     },
     "execution_count": 61,
     "metadata": {},
     "output_type": "execute_result"
    }
   ],
   "source": [
    "combined_list = integer_list + float_list + string_list\n",
    "combined_list"
   ]
  },
  {
   "cell_type": "markdown",
   "metadata": {},
   "source": [
    "Lists in `Python` are 0-indexed. Meaning that the \"first\" element in python is actually accessed by `list[0]`"
   ]
  },
  {
   "cell_type": "code",
   "execution_count": 62,
   "metadata": {},
   "outputs": [
    {
     "data": {
      "text/plain": [
       "1"
      ]
     },
     "execution_count": 62,
     "metadata": {},
     "output_type": "execute_result"
    }
   ],
   "source": [
    "combined_list[0]"
   ]
  },
  {
   "cell_type": "markdown",
   "metadata": {},
   "source": [
    "You can get the total length of a list by using `len(list)`"
   ]
  },
  {
   "cell_type": "code",
   "execution_count": 63,
   "metadata": {},
   "outputs": [
    {
     "data": {
      "text/plain": [
       "15"
      ]
     },
     "execution_count": 63,
     "metadata": {},
     "output_type": "execute_result"
    }
   ],
   "source": [
    "len(combined_list)"
   ]
  },
  {
   "cell_type": "markdown",
   "metadata": {},
   "source": [
    "What if we try to get the 15th element of this list?"
   ]
  },
  {
   "cell_type": "code",
   "execution_count": 64,
   "metadata": {},
   "outputs": [
    {
     "ename": "IndexError",
     "evalue": "list index out of range",
     "output_type": "error",
     "traceback": [
      "\u001b[0;31m---------------------------------------------------------------------------\u001b[0m",
      "\u001b[0;31mIndexError\u001b[0m                                Traceback (most recent call last)",
      "\u001b[0;32m<ipython-input-64-ebd935df4d22>\u001b[0m in \u001b[0;36m<module>\u001b[0;34m()\u001b[0m\n\u001b[0;32m----> 1\u001b[0;31m \u001b[0mcombined_list\u001b[0m\u001b[0;34m[\u001b[0m\u001b[0;36m15\u001b[0m\u001b[0;34m]\u001b[0m\u001b[0;34m\u001b[0m\u001b[0m\n\u001b[0m",
      "\u001b[0;31mIndexError\u001b[0m: list index out of range"
     ]
    }
   ],
   "source": [
    "combined_list[15]"
   ]
  },
  {
   "cell_type": "markdown",
   "metadata": {},
   "source": [
    "Oops! Remember, Python is 0-indexed, so the last element is actually given by"
   ]
  },
  {
   "cell_type": "code",
   "execution_count": 65,
   "metadata": {},
   "outputs": [
    {
     "data": {
      "text/plain": [
       "'5'"
      ]
     },
     "execution_count": 65,
     "metadata": {},
     "output_type": "execute_result"
    }
   ],
   "source": [
    "combined_list[len(combined_list) - 1]"
   ]
  },
  {
   "cell_type": "markdown",
   "metadata": {},
   "source": [
    "Alternatively (and preferably), you can access the last element by using `list[-1]`"
   ]
  },
  {
   "cell_type": "code",
   "execution_count": 67,
   "metadata": {},
   "outputs": [
    {
     "data": {
      "text/plain": [
       "('5', '4')"
      ]
     },
     "execution_count": 67,
     "metadata": {},
     "output_type": "execute_result"
    }
   ],
   "source": [
    "combined_list[-1], combined_list[-2]"
   ]
  },
  {
   "cell_type": "markdown",
   "metadata": {},
   "source": [
    "### List slicing"
   ]
  },
  {
   "cell_type": "markdown",
   "metadata": {},
   "source": [
    "What if you only want to get out certain elements in a list? These operations are known as *slicing*. You can slice a list in many ways -- but here are the main ones:"
   ]
  },
  {
   "cell_type": "code",
   "execution_count": 71,
   "metadata": {},
   "outputs": [
    {
     "data": {
      "text/plain": [
       "[3, 4, 5, 1.0]"
      ]
     },
     "execution_count": 71,
     "metadata": {},
     "output_type": "execute_result"
    }
   ],
   "source": [
    "combined_list[2:6] # Get the '2nd' element UP TO, but not including, the '6th'"
   ]
  },
  {
   "cell_type": "code",
   "execution_count": 72,
   "metadata": {},
   "outputs": [
    {
     "data": {
      "text/plain": [
       "[1, 2, 3, 4, 5]"
      ]
     },
     "execution_count": 72,
     "metadata": {},
     "output_type": "execute_result"
    }
   ],
   "source": [
    "combined_list[:5] # Get every element up to the 5th"
   ]
  },
  {
   "cell_type": "code",
   "execution_count": 73,
   "metadata": {},
   "outputs": [
    {
     "data": {
      "text/plain": [
       "[1, 2, 3, 4, 5, 1.0, 2.0, 3.0, 4.0, 5.0, '1']"
      ]
     },
     "execution_count": 73,
     "metadata": {},
     "output_type": "execute_result"
    }
   ],
   "source": [
    "combined_list[:-4] # Get every element up to the fourth from the last"
   ]
  },
  {
   "cell_type": "code",
   "execution_count": 74,
   "metadata": {},
   "outputs": [
    {
     "data": {
      "text/plain": [
       "[5, 1.0, 2.0, 3.0, 4.0, 5.0, '1', '2', '3', '4', '5']"
      ]
     },
     "execution_count": 74,
     "metadata": {},
     "output_type": "execute_result"
    }
   ],
   "source": [
    "combined_list[4:] # Every element from the 4th onward"
   ]
  },
  {
   "cell_type": "code",
   "execution_count": 78,
   "metadata": {},
   "outputs": [
    {
     "data": {
      "text/plain": [
       "[1, 2, 3, 4, 5, 1.0, 2.0, 3.0, 4.0, 5.0, '1', '2', '3', '4', '5']"
      ]
     },
     "execution_count": 78,
     "metadata": {},
     "output_type": "execute_result"
    }
   ],
   "source": [
    "combined_list[:] # get all elements"
   ]
  },
  {
   "cell_type": "code",
   "execution_count": 77,
   "metadata": {},
   "outputs": [
    {
     "data": {
      "text/plain": [
       "[1, 3, 5, 2.0, 4.0, '1', '3', '5']"
      ]
     },
     "execution_count": 77,
     "metadata": {},
     "output_type": "execute_result"
    }
   ],
   "source": [
    "combined_list[::2] # Get all elements, but only grab every 2nd"
   ]
  },
  {
   "cell_type": "markdown",
   "metadata": {},
   "source": [
    "### Iteration"
   ]
  },
  {
   "cell_type": "markdown",
   "metadata": {},
   "source": [
    "One of the most important properties of lists is that they can be iterated over. For example:"
   ]
  },
  {
   "cell_type": "code",
   "execution_count": 79,
   "metadata": {},
   "outputs": [
    {
     "name": "stdout",
     "output_type": "stream",
     "text": [
      "1\n",
      "the type of this element is <class 'int'>\n",
      "2\n",
      "the type of this element is <class 'int'>\n",
      "3\n",
      "the type of this element is <class 'int'>\n",
      "4\n",
      "the type of this element is <class 'int'>\n",
      "5\n",
      "the type of this element is <class 'int'>\n",
      "1.0\n",
      "the type of this element is <class 'float'>\n",
      "2.0\n",
      "the type of this element is <class 'float'>\n",
      "3.0\n",
      "the type of this element is <class 'float'>\n",
      "4.0\n",
      "the type of this element is <class 'float'>\n",
      "5.0\n",
      "the type of this element is <class 'float'>\n",
      "1\n",
      "the type of this element is <class 'str'>\n",
      "2\n",
      "the type of this element is <class 'str'>\n",
      "3\n",
      "the type of this element is <class 'str'>\n",
      "4\n",
      "the type of this element is <class 'str'>\n",
      "5\n",
      "the type of this element is <class 'str'>\n"
     ]
    }
   ],
   "source": [
    "for element in combined_list:\n",
    "    print(element)\n",
    "    print('the type of this element is {}'.format(type(element)))"
   ]
  },
  {
   "cell_type": "markdown",
   "metadata": {},
   "source": [
    "We can also iterate through the indices by using the `range` constructor"
   ]
  },
  {
   "cell_type": "code",
   "execution_count": 82,
   "metadata": {},
   "outputs": [
    {
     "name": "stdout",
     "output_type": "stream",
     "text": [
      "1\n",
      "2\n",
      "3\n",
      "4\n",
      "5\n",
      "1.0\n",
      "2.0\n",
      "3.0\n",
      "4.0\n",
      "5.0\n",
      "1\n",
      "2\n",
      "3\n",
      "4\n",
      "5\n"
     ]
    }
   ],
   "source": [
    "for i in range(len(combined_list)):\n",
    "    print(combined_list[i])"
   ]
  },
  {
   "cell_type": "markdown",
   "metadata": {},
   "source": [
    "However, python offers a better way to do this, which is the `enumerate` function:"
   ]
  },
  {
   "cell_type": "code",
   "execution_count": 84,
   "metadata": {},
   "outputs": [
    {
     "name": "stdout",
     "output_type": "stream",
     "text": [
      "the index is 0\n",
      "the value is 1\n",
      "the index is 1\n",
      "the value is 2\n",
      "the index is 2\n",
      "the value is 3\n",
      "the index is 3\n",
      "the value is 4\n",
      "the index is 4\n",
      "the value is 5\n",
      "the index is 5\n",
      "the value is 1.0\n",
      "the index is 6\n",
      "the value is 2.0\n",
      "the index is 7\n",
      "the value is 3.0\n",
      "the index is 8\n",
      "the value is 4.0\n",
      "the index is 9\n",
      "the value is 5.0\n",
      "the index is 10\n",
      "the value is 1\n",
      "the index is 11\n",
      "the value is 2\n",
      "the index is 12\n",
      "the value is 3\n",
      "the index is 13\n",
      "the value is 4\n",
      "the index is 14\n",
      "the value is 5\n"
     ]
    }
   ],
   "source": [
    "for index, value in enumerate(combined_list):\n",
    "    print('the index is {}'.format(index))\n",
    "    print('the value is {}'.format(value))"
   ]
  },
  {
   "cell_type": "markdown",
   "metadata": {},
   "source": [
    "### Building lists"
   ]
  },
  {
   "cell_type": "markdown",
   "metadata": {},
   "source": [
    "Oftentimes, we want to be able to build lists up according to some criteria. There are two main ways that this is recommended in Python. The first is by using the `.append` method and the other is through `list comprehensions`. We will cover both here:"
   ]
  },
  {
   "cell_type": "code",
   "execution_count": 89,
   "metadata": {},
   "outputs": [
    {
     "name": "stdout",
     "output_type": "stream",
     "text": [
      "[0, 1, 2, 3, 4, 5, 6, 7, 8, 9]\n"
     ]
    }
   ],
   "source": [
    "my_list = [] # start with an empty list:\n",
    "\n",
    "for i in range(10):\n",
    "    my_list.append(i) # We are appending the value of i to our list for each iteration\n",
    "\n",
    "print(my_list)"
   ]
  },
  {
   "cell_type": "code",
   "execution_count": 10,
   "metadata": {},
   "outputs": [
    {
     "name": "stdout",
     "output_type": "stream",
     "text": [
      "[0, 1, 2, 3, 4, '>= 5', '>= 5', '>= 5', '>= 5', '>= 5']\n"
     ]
    }
   ],
   "source": [
    "# Here is a similar version, but we are going to be more picky about what we append\n",
    "my_list = []\n",
    "\n",
    "for i in range(10):\n",
    "    if i < 5:\n",
    "        my_list.append(i)\n",
    "    else:\n",
    "        my_list.append('>= 5')\n",
    "\n",
    "print(my_list)"
   ]
  },
  {
   "cell_type": "markdown",
   "metadata": {},
   "source": [
    ">## Exercise 1:\n",
    "> #### Construct a list using the above method that contains all odd numbers between 1 and 19 inclusive and print it out"
   ]
  },
  {
   "cell_type": "code",
   "execution_count": 92,
   "metadata": {},
   "outputs": [],
   "source": [
    "# ====================\n",
    "# Your code here:"
   ]
  },
  {
   "cell_type": "markdown",
   "metadata": {},
   "source": [
    "### List Comprehensions"
   ]
  },
  {
   "cell_type": "markdown",
   "metadata": {},
   "source": [
    "List comprehensions are another way to construct lists that are concise, and very useful! Here is an example of the same lists that were generated above."
   ]
  },
  {
   "cell_type": "code",
   "execution_count": 93,
   "metadata": {},
   "outputs": [
    {
     "name": "stdout",
     "output_type": "stream",
     "text": [
      "[0, 1, 2, 3, 4, 5, 6, 7, 8, 9]\n"
     ]
    }
   ],
   "source": [
    "my_list = [i for i in range(10)]\n",
    "print(my_list)"
   ]
  },
  {
   "cell_type": "code",
   "execution_count": 99,
   "metadata": {},
   "outputs": [
    {
     "name": "stdout",
     "output_type": "stream",
     "text": [
      "[0, 1, 2, 3, 4, 'Greater than or equal to 5', 'Greater than or equal to 5', 'Greater than or equal to 5', 'Greater than or equal to 5', 'Greater than or equal to 5']\n"
     ]
    }
   ],
   "source": [
    "my_list = [i if i < 5 else 'Greater than or equal to 5' for i in range(10)]\n",
    "print(my_list)"
   ]
  },
  {
   "cell_type": "markdown",
   "metadata": {},
   "source": [
    ">## Exercise 2:\n",
    ">#### Construct the same list that you did in question 1, but this time in list comprehension form, and print it out"
   ]
  },
  {
   "cell_type": "code",
   "execution_count": 100,
   "metadata": {},
   "outputs": [],
   "source": [
    "# ====================\n",
    "# Your code here:"
   ]
  },
  {
   "cell_type": "markdown",
   "metadata": {},
   "source": [
    "## Strings"
   ]
  },
  {
   "cell_type": "markdown",
   "metadata": {},
   "source": [
    "Character `strings` in python are another base type that you may encounter whenever you are dealing with text data. Strings also exhibit many of the characteristics that lists do, in that they have lengths and can be iterated over. Let's see an example of this!"
   ]
  },
  {
   "cell_type": "code",
   "execution_count": 1,
   "metadata": {},
   "outputs": [],
   "source": [
    "my_string = 'hello world'"
   ]
  },
  {
   "cell_type": "code",
   "execution_count": 4,
   "metadata": {},
   "outputs": [
    {
     "data": {
      "text/plain": [
       "11"
      ]
     },
     "execution_count": 4,
     "metadata": {},
     "output_type": "execute_result"
    }
   ],
   "source": [
    "len(my_string)"
   ]
  },
  {
   "cell_type": "code",
   "execution_count": 5,
   "metadata": {},
   "outputs": [
    {
     "name": "stdout",
     "output_type": "stream",
     "text": [
      "h\n",
      "e\n",
      "l\n",
      "l\n",
      "o\n",
      " \n",
      "w\n",
      "o\n",
      "r\n",
      "l\n",
      "d\n"
     ]
    }
   ],
   "source": [
    "for char in my_string:\n",
    "    print(char)"
   ]
  },
  {
   "cell_type": "code",
   "execution_count": 7,
   "metadata": {},
   "outputs": [
    {
     "data": {
      "text/plain": [
       "'hello w'"
      ]
     },
     "execution_count": 7,
     "metadata": {},
     "output_type": "execute_result"
    }
   ],
   "source": [
    "my_string[0:7] # We can also index strings the same way"
   ]
  },
  {
   "cell_type": "code",
   "execution_count": 8,
   "metadata": {},
   "outputs": [
    {
     "ename": "AttributeError",
     "evalue": "'str' object has no attribute 'append'",
     "output_type": "error",
     "traceback": [
      "\u001b[0;31m---------------------------------------------------------------------------\u001b[0m",
      "\u001b[0;31mAttributeError\u001b[0m                            Traceback (most recent call last)",
      "\u001b[0;32m<ipython-input-8-fcecdf652c43>\u001b[0m in \u001b[0;36m<module>\u001b[0;34m()\u001b[0m\n\u001b[0;32m----> 1\u001b[0;31m \u001b[0mmy_string\u001b[0m\u001b[0;34m.\u001b[0m\u001b[0mappend\u001b[0m\u001b[0;34m(\u001b[0m\u001b[0;34m'!'\u001b[0m\u001b[0;34m)\u001b[0m\u001b[0;34m\u001b[0m\u001b[0m\n\u001b[0m",
      "\u001b[0;31mAttributeError\u001b[0m: 'str' object has no attribute 'append'"
     ]
    }
   ],
   "source": [
    "my_string.append('!')"
   ]
  },
  {
   "cell_type": "markdown",
   "metadata": {},
   "source": [
    "# TODO"
   ]
  },
  {
   "cell_type": "markdown",
   "metadata": {},
   "source": [
    "As you can see, `str` objects don't have the `append` methods, which are unique to lists. The following are some of the ways in which working with strings differ from working with lists:"
   ]
  },
  {
   "cell_type": "markdown",
   "metadata": {},
   "source": [
    "#### Combining strings together:"
   ]
  },
  {
   "cell_type": "code",
   "execution_count": 9,
   "metadata": {},
   "outputs": [
    {
     "data": {
      "text/plain": [
       "'hello world!'"
      ]
     },
     "execution_count": 9,
     "metadata": {},
     "output_type": "execute_result"
    }
   ],
   "source": [
    "my_string + '!'"
   ]
  },
  {
   "cell_type": "markdown",
   "metadata": {},
   "source": [
    "### A note about searching strings"
   ]
  },
  {
   "cell_type": "markdown",
   "metadata": {},
   "source": [
    "Oftentimes, we are interested with searching through text in some way. In order to do this, it is recommended that you use `regular expressions`. We will learn about these in a later module!"
   ]
  },
  {
   "cell_type": "markdown",
   "metadata": {},
   "source": [
    "## Dictionaries"
   ]
  },
  {
   "cell_type": "markdown",
   "metadata": {},
   "source": [
    "Another way to store information in python is known as a dictionary. Dictionaries are unordered key, value pairs. You can spot a dictionary in python when you see the curly braces: `{}`. Because dictionaries are unordered, you cannot slice them in the same way that you can slice lists. In general, dictionaries are very fast data structures. "
   ]
  },
  {
   "cell_type": "markdown",
   "metadata": {},
   "source": [
    "You can construct a dictionary in the following way:\n"
   ]
  },
  {
   "cell_type": "code",
   "execution_count": 2,
   "metadata": {},
   "outputs": [],
   "source": [
    "my_dict = {'key1': 1, 'key_two': 2, 3:'value 3'}"
   ]
  },
  {
   "cell_type": "markdown",
   "metadata": {},
   "source": [
    "Note that keys do not have to be the same type, and similarly we can store anything we want in the value portion. The dictionary simply provides a map from a key to a value. To see the values of a dictionary, we can access them via\n"
   ]
  },
  {
   "cell_type": "code",
   "execution_count": 4,
   "metadata": {},
   "outputs": [
    {
     "data": {
      "text/plain": [
       "dict_values([1, 2, 'value 3'])"
      ]
     },
     "execution_count": 4,
     "metadata": {},
     "output_type": "execute_result"
    }
   ],
   "source": [
    "my_dict.values()\n"
   ]
  },
  {
   "cell_type": "markdown",
   "metadata": {},
   "source": [
    "However, sometimes we want to look at the keys as well. To return the key, value pairs of the dictionary as a `list` of `tuples`, we can use the `.items()` method\n"
   ]
  },
  {
   "cell_type": "code",
   "execution_count": 5,
   "metadata": {},
   "outputs": [
    {
     "data": {
      "text/plain": [
       "dict_items([('key1', 1), ('key_two', 2), (3, 'value 3')])"
      ]
     },
     "execution_count": 5,
     "metadata": {},
     "output_type": "execute_result"
    }
   ],
   "source": [
    "my_dict.items()\n"
   ]
  },
  {
   "cell_type": "markdown",
   "metadata": {},
   "source": [
    "When you iterate over a dictionary, you get back the keys. For example,\n"
   ]
  },
  {
   "cell_type": "code",
   "execution_count": 6,
   "metadata": {},
   "outputs": [
    {
     "name": "stdout",
     "output_type": "stream",
     "text": [
      "key1\n",
      "key_two\n",
      "3\n"
     ]
    }
   ],
   "source": [
    "for i in my_dict:\n",
    "\tprint(i)"
   ]
  },
  {
   "cell_type": "markdown",
   "metadata": {},
   "source": [
    "Let's say that you want to check to see if a value is in your keys, you can simply check it by doing the following:\n"
   ]
  },
  {
   "cell_type": "code",
   "execution_count": 8,
   "metadata": {},
   "outputs": [
    {
     "name": "stdout",
     "output_type": "stream",
     "text": [
      "key1 is already in your keys!\n",
      "key_two is already in your keys!\n"
     ]
    },
    {
     "data": {
      "text/plain": [
       "dict_items([('key1', 1), ('key_two', 2), (3, 'value 3'), ('value', 'a new value'), ('value2', 'a new value'), ('notakey', 'a new value')])"
      ]
     },
     "execution_count": 8,
     "metadata": {},
     "output_type": "execute_result"
    }
   ],
   "source": [
    "keylist = ['key1', 'key_two', 'value', 'value2', 'notakey']\n",
    "\n",
    "for i in keylist:\n",
    "\tif i in my_dict:\n",
    "\t\tprint('{} is already in your keys!'.format(i))\n",
    "\telse:\n",
    "\t\tmy_dict[i] = 'a new value'\n",
    "\n",
    "my_dict.items()"
   ]
  },
  {
   "cell_type": "markdown",
   "metadata": {},
   "source": [
    "# Functions\n",
    "\n",
    "Functions play a key role in python, and every other programming language. You have already seen many functions in the code above. For example, the `print() and len()` functions take in some input and return something. In addition, things like `.append()` are also functions that are associated with some object, in this case lists. These are also known as `methods`. The following section will teach you how to define your own functions and how to do so in a way that makes it clear to users of your functions what it is that you're trying to do.\n",
    "\n",
    "Let's begin by defining a very simple function:"
   ]
  },
  {
   "cell_type": "code",
   "execution_count": 10,
   "metadata": {},
   "outputs": [],
   "source": [
    "def my_func():\n",
    "\treturn 'this is my function'"
   ]
  },
  {
   "cell_type": "markdown",
   "metadata": {},
   "source": [
    "Notice that we didn't write anything in the parentheses. This means that the function takes no `arguments`. We can call the function by simply calling\n"
   ]
  },
  {
   "cell_type": "code",
   "execution_count": 12,
   "metadata": {},
   "outputs": [
    {
     "data": {
      "text/plain": [
       "'this is my function'"
      ]
     },
     "execution_count": 12,
     "metadata": {},
     "output_type": "execute_result"
    }
   ],
   "source": [
    "my_func()\n"
   ]
  },
  {
   "cell_type": "markdown",
   "metadata": {},
   "source": [
    "Ok, that's a pretty boring function. What if we want to do something sligtly more interesting? We can add `arguments` to our functions. Let's write a function that takes two numbers in as input and then squares and sums them."
   ]
  },
  {
   "cell_type": "code",
   "execution_count": 13,
   "metadata": {},
   "outputs": [],
   "source": [
    "def square_then_sum(a, b):\n",
    "\treturn a**2 + b**2"
   ]
  },
  {
   "cell_type": "markdown",
   "metadata": {},
   "source": [
    "try this function out yourself!\n"
   ]
  },
  {
   "cell_type": "code",
   "execution_count": 15,
   "metadata": {},
   "outputs": [],
   "source": [
    "# Your code here:\n",
    "\n"
   ]
  },
  {
   "cell_type": "markdown",
   "metadata": {},
   "source": [
    "Note that if we do _not_ specify any arguments, python yells at us:\n"
   ]
  },
  {
   "cell_type": "code",
   "execution_count": 17,
   "metadata": {},
   "outputs": [
    {
     "ename": "TypeError",
     "evalue": "square_then_sum() missing 2 required positional arguments: 'a' and 'b'",
     "output_type": "error",
     "traceback": [
      "\u001b[0;31m---------------------------------------------------------------------------\u001b[0m",
      "\u001b[0;31mTypeError\u001b[0m                                 Traceback (most recent call last)",
      "\u001b[0;32m<ipython-input-17-c272ffc6fc87>\u001b[0m in \u001b[0;36m<module>\u001b[0;34m()\u001b[0m\n\u001b[0;32m----> 1\u001b[0;31m \u001b[0msquare_then_sum\u001b[0m\u001b[0;34m(\u001b[0m\u001b[0;34m)\u001b[0m\u001b[0;34m\u001b[0m\u001b[0m\n\u001b[0m",
      "\u001b[0;31mTypeError\u001b[0m: square_then_sum() missing 2 required positional arguments: 'a' and 'b'"
     ]
    }
   ],
   "source": [
    "square_then_sum()\n"
   ]
  },
  {
   "cell_type": "markdown",
   "metadata": {},
   "source": [
    "Sometimes, it makes sense to have default arguments. In this case, we can create what are called `default arguments`. For example:"
   ]
  },
  {
   "cell_type": "code",
   "execution_count": 18,
   "metadata": {},
   "outputs": [],
   "source": [
    "def exponentiate_then_square(a, b, exponent = 2):\n",
    "\t\"\"\"\n",
    "\tSometimes you will see functions which are commented in this way. There\n",
    "\tare several style guides that dictate what good conventions are around\n",
    "\tcommenting functions.\n",
    "\n",
    "\tThis function returns each value to an exponent and then sumes the result.\n",
    "\n",
    "\tArgs:\n",
    "\t\ta (int or float)\n",
    "\t\tb (int or float)\n",
    "\n",
    "\tReturns:\n",
    "\t\tresult (float) the result of performing the above operation\n",
    "\t\n",
    "\tThis may seem overly verbose, but for more complex functions, it can be \n",
    "\tEXTREMELY helpful to have this type of documentation in line\n",
    "\t\"\"\"\n",
    "\tresult = a**exponent + b**exponent\n",
    "\n",
    "\treturn float(result)"
   ]
  },
  {
   "cell_type": "markdown",
   "metadata": {},
   "source": [
    "Now, if we call this function with whatever argument we want for `exponent`, but if don't specify one, it'll use the default that we chose in the function definition\n"
   ]
  },
  {
   "cell_type": "code",
   "execution_count": 19,
   "metadata": {},
   "outputs": [
    {
     "data": {
      "text/plain": [
       "13.0"
      ]
     },
     "execution_count": 19,
     "metadata": {},
     "output_type": "execute_result"
    }
   ],
   "source": [
    "exponentiate_then_square(2, 3)"
   ]
  },
  {
   "cell_type": "code",
   "execution_count": 21,
   "metadata": {},
   "outputs": [
    {
     "data": {
      "text/plain": [
       "97.0"
      ]
     },
     "execution_count": 21,
     "metadata": {},
     "output_type": "execute_result"
    }
   ],
   "source": [
    "exponentiate_then_square(2,3, exponent = 4)"
   ]
  },
  {
   "cell_type": "markdown",
   "metadata": {},
   "source": [
    "We can also use what are called `positional` and `keyword` arguments. Sometimes, you are unsure how many arguments should be passed in. In this case, we can add an asterik `*` in front of an argument in the function definition. All values passed in at this point will be put together in a tuple that can be accessed in the function. This is known as a `positional` argument. Let's see an example of this:"
   ]
  },
  {
   "cell_type": "code",
   "execution_count": 22,
   "metadata": {},
   "outputs": [],
   "source": [
    "def add_then_square(*args):\n",
    "\t\"\"\"\n",
    "\tThis function takes in a variable number of arguments positionally and adds \n",
    "\tthem all together and then squares them:\n",
    "\n",
    "\tArgs:\n",
    "\t\t*args (ints or floats) values to be added then squared\n",
    "\n",
    "\tReturns:\n",
    "\t\tinit (int or float) The result of performing the above operation\n",
    "\n",
    "\t\"\"\"\n",
    "\tinit = 0\n",
    "\tif len(args) == 0:\n",
    "\t\tprint('No arguments given!, please specify arguments')\n",
    "\t\tpass\n",
    "\telse:\n",
    "\t\tfor arg in args:\n",
    "\t\t\tinit += args\n",
    "\n",
    "\tinit = init**2\n",
    "\n",
    "\treturn init"
   ]
  },
  {
   "cell_type": "markdown",
   "metadata": {},
   "source": [
    "\n",
    "You may notice a few things that are weird about this function: First, the `pass` statement means not to return anything, which can be useful in certain circumstances. Sometimes, it is better to have python error out so that your function fails rather than exiting gracefully. However, there are cases where you want just to print something, for instance. In these cases, you can call `pass` at the end of the function so that your user knows that the function doesn't actually have a return\n",
    "\n",
    "Also, the `+=` operator is short for 'add then reassign'. For example:"
   ]
  },
  {
   "cell_type": "code",
   "execution_count": 23,
   "metadata": {},
   "outputs": [
    {
     "data": {
      "text/plain": [
       "13"
      ]
     },
     "execution_count": 23,
     "metadata": {},
     "output_type": "execute_result"
    }
   ],
   "source": [
    "a = 1\n",
    "\n",
    "a += 12\n",
    "\n",
    "a"
   ]
  },
  {
   "cell_type": "markdown",
   "metadata": {},
   "source": [
    "\n",
    "This construct is especially useful inside loops just to make things a bit more concise. \n",
    "\n",
    "Keyword arguments are also similar, except you pass them in as `named` arguments. You can then access these in a dictionary. For example:"
   ]
  },
  {
   "cell_type": "code",
   "execution_count": 26,
   "metadata": {},
   "outputs": [],
   "source": [
    "def print_grades(**grades):\n",
    "\t\"\"\"\n",
    "\tThis function takes in keyword arguments. The names for these arguments are\n",
    "\tthe name of classes that you are taking and the value represents what you \n",
    "\tthnk your grade will be. The function will then print all of the results:\n",
    "\t\"\"\"\n",
    "\n",
    "\tfor class_ in grades: # Avoid using keywords like `class`, which actually mean something in python\n",
    "\t\tprint('I expect to receive a {} in {}'.format(grades[class_], class_))\n",
    "\n",
    "\tpass # I'm not doing anything else in this function"
   ]
  },
  {
   "cell_type": "code",
   "execution_count": 27,
   "metadata": {},
   "outputs": [
    {
     "name": "stdout",
     "output_type": "stream",
     "text": [
      "I expect to receive a c in stat360\n",
      "I expect to receive a a in bme590\n",
      "I expect to receive a b in spanish\n",
      "I expect to receive a a+ in dsah\n"
     ]
    }
   ],
   "source": [
    "print_grades(stat360 = 'c', bme590 = 'a', spanish = 'b', dsah = 'a+')\n"
   ]
  }
 ],
 "metadata": {
  "kernelspec": {
   "display_name": "Python 3",
   "language": "python",
   "name": "python3"
  },
  "language_info": {
   "codemirror_mode": {
    "name": "ipython",
    "version": 3
   },
   "file_extension": ".py",
   "mimetype": "text/x-python",
   "name": "python",
   "nbconvert_exporter": "python",
   "pygments_lexer": "ipython3",
   "version": "3.6.6"
  }
 },
 "nbformat": 4,
 "nbformat_minor": 2
}
