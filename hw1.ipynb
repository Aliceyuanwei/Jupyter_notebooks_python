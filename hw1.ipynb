{
 "cells": [
  {
   "cell_type": "markdown",
   "metadata": {},
   "source": [
    "# HW1 - Python and Probability"
   ]
  },
  {
   "cell_type": "markdown",
   "metadata": {},
   "source": [
    "In this module, we will be using what you learned in class about python and probability and practice using the git workflow to submit assignments in this class. "
   ]
  },
  {
   "cell_type": "code",
   "execution_count": 7,
   "metadata": {},
   "outputs": [],
   "source": [
    "import numpy as np\n",
    "from scipy import stats\n",
    "import matplotlib.pyplot as plt\n",
    "import math"
   ]
  },
  {
   "cell_type": "markdown",
   "metadata": {},
   "source": [
    "### 1. Create a list of 1000 normally-distributed numbers with mean 10 and variance 5 and assign it to a variable\n",
    "\n",
    "For this, you can use the scipy.stats.norm function. You can find the documentation [here](https://docs.scipy.org/doc/scipy/reference/generated/scipy.stats.norm.html). Look for the example that tells you how to generate random numbers!\n",
    "\n",
    "Also, be careful about your `scale` parameter -- remember, you want a variance of 5 here. Another thing to watch out here is that we've imported the entire `scipy.stats` module. Keep that in mind when trying to figure out how to access functions within a module."
   ]
  },
  {
   "cell_type": "code",
   "execution_count": 19,
   "metadata": {},
   "outputs": [],
   "source": [
    "## Your code here:\n",
    "norm_list = "
   ]
  },
  {
   "cell_type": "markdown",
   "metadata": {},
   "source": [
    "### 2. Check the *empirical* mean and variance of this distribution by using the `mean` and `std` functions from the `numpy` library on your list."
   ]
  },
  {
   "cell_type": "code",
   "execution_count": 21,
   "metadata": {},
   "outputs": [],
   "source": [
    "## Mean:\n"
   ]
  },
  {
   "cell_type": "code",
   "execution_count": 20,
   "metadata": {},
   "outputs": [],
   "source": [
    "## Variance:\n"
   ]
  },
  {
   "cell_type": "markdown",
   "metadata": {},
   "source": [
    "### 3. The Multivariate Normal"
   ]
  },
  {
   "cell_type": "markdown",
   "metadata": {},
   "source": [
    "For this step, we're going to emulate draws from a bivariate normal distribution (a 2-dimensional normal distribution). As you remember from class, the multivariate normal distribution can be expressed via a mean vector and a covariance matrix. However, we can also build our *own* bivariate normal by generating correlated values to the values that you generated above.\n",
    "\n",
    "The random normal values that you generated before were distributed\n",
    "\n",
    "$$X \\sim N(10, 5)$$ \n",
    "(This notation means the random variable X is distributed Normally with mean 10, and variance 5)\n",
    "\n",
    "Let's say that we want to generate another set of 1000 Normal random variables. However, we want them to be *correlated* with your current list. At the end, we would like the *joint* distribution of the two lists to follow the following:\n",
    " them to have some non-zero *covariance*. To read more about the difference between a correlation and a covariance, click [here](http://ci.columbia.edu/ci/premba_test/c0331/s7/s7_5.html)\n",
    "\n",
    "At the end, we would like the *joint* distribution of the two lists to follow the following:\n",
    "\n",
    "$$ \\begin{bmatrix}X\\\\Y\\end{bmatrix} \\sim N(\\begin{bmatrix}10 \\\\50 \\end{bmatrix}, \\begin{bmatrix}  5&10\\\\10&20\\end{bmatrix})$$\n",
    "\n",
    "The diagonals of the covariance matrix are the respective variances of the two normal distributions that make up the bivariate normal. The diagonal elements represent the covariance between the two (this generalizes in *k* dimensions).\n",
    "\n",
    "The covariance in this case is 10. However, we will need to convert this to a correlation for later. The relationship between the covariance and the correlation is given as follows:\n",
    "\n",
    "$$ Cov_{xy} = \\rho_{xy}\\sigma_x\\sigma_y $$\n",
    "\n",
    "where $\\rho_{xy}$ is the correlation between $x$ and $y$"
   ]
  },
  {
   "cell_type": "code",
   "execution_count": 22,
   "metadata": {},
   "outputs": [],
   "source": [
    "# Compute the correlation between X and Y in the \n",
    "# multivariate normal distribution above and print it here:\n"
   ]
  },
  {
   "cell_type": "markdown",
   "metadata": {},
   "source": [
    "We now want to generate a new set of 1000 normally distributed variables. However, we want to generate them based on the values of our old list. For each number $x$ generated in your old list, generate a new number which is drawn from the following distribution:\n",
    "\n",
    "$$ y \\sim N(\\mu_y + \\rho(\\frac{\\sigma_y}{\\sigma_x})(x-\\mu_x)), \\sigma^2_y (1-\\rho^2)) $$\n",
    "\n",
    "where $\\rho$ is the *correlation* between the two normal distributions that you calculated above, $\\mu_y$ is the mean of Y, and $\\sigma$ represents the standard deviation. Store the results in another list of 1000 numbers. We will do this in two different ways: Please complete the boilerplate code below"
   ]
  },
  {
   "cell_type": "markdown",
   "metadata": {},
   "source": [
    "#### Method 1 -- build a list iteratively"
   ]
  },
  {
   "cell_type": "code",
   "execution_count": null,
   "metadata": {},
   "outputs": [],
   "source": [
    "## This first method will involve constructing \n",
    "## an array iteratively using a for loop:\n",
    "\n",
    "cond_normal_array1 = []\n",
    "for v in norm_list:\n",
    "    \"\"\"\n",
    "    Compute a new number depending on the value in normlist\n",
    "    and append it to cond_normal_array1\n",
    "    \"\"\"\n",
    "    # Your code here\n",
    "    \n",
    "    cond_normal_array1.append()\n",
    "    \n"
   ]
  },
  {
   "cell_type": "markdown",
   "metadata": {},
   "source": [
    "Verify that the mean and variance of the numbers that you generated match the expected distribution of $Y$"
   ]
  },
  {
   "cell_type": "code",
   "execution_count": 1,
   "metadata": {},
   "outputs": [],
   "source": [
    "# Find the mean "
   ]
  },
  {
   "cell_type": "code",
   "execution_count": 2,
   "metadata": {},
   "outputs": [],
   "source": [
    "# And variance"
   ]
  },
  {
   "cell_type": "markdown",
   "metadata": {},
   "source": [
    "#### Method 2 - List Comprehension"
   ]
  },
  {
   "cell_type": "markdown",
   "metadata": {},
   "source": [
    "This method will involve writing a function that operates on a single value, and then we will apply that in a list comprehension to generate the new list\n"
   ]
  },
  {
   "cell_type": "code",
   "execution_count": 26,
   "metadata": {},
   "outputs": [],
   "source": [
    "def gen_cond_normal_val(x, y_mean, x_mean, y_std, x_std, rho):\n",
    "    \"\"\"\n",
    "    This function returns a draw from a conditional normal distribution with the specified parameters\n",
    "    Args: (all Args numeric)\n",
    "        x: Observed value\n",
    "        y_mean: mean of Y distribution\n",
    "        x_mean: mean of X distribution\n",
    "        y_std: standard deviation of Y distribution\n",
    "        x_std: standard deviation of X distribution\n",
    "        rho: correlation between X and Y\n",
    "    Returns: \n",
    "        \n",
    "    \"\"\"\n",
    "    pass #replace this with a return "
   ]
  },
  {
   "cell_type": "code",
   "execution_count": null,
   "metadata": {},
   "outputs": [],
   "source": [
    "cond_normal_array2 = [gen_cond_normal_val(x, ...) for x in norm_list] # replace the ... with your parameter values"
   ]
  },
  {
   "cell_type": "code",
   "execution_count": null,
   "metadata": {},
   "outputs": [],
   "source": []
  }
 ],
 "metadata": {
  "kernelspec": {
   "display_name": "Python 3",
   "language": "python",
   "name": "python3"
  },
  "language_info": {
   "codemirror_mode": {
    "name": "ipython",
    "version": 3
   },
   "file_extension": ".py",
   "mimetype": "text/x-python",
   "name": "python",
   "nbconvert_exporter": "python",
   "pygments_lexer": "ipython3",
   "version": "3.7.0"
  }
 },
 "nbformat": 4,
 "nbformat_minor": 2
}
